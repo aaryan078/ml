{
 "cells": [
  {
   "cell_type": "markdown",
   "metadata": {},
   "source": [
    "## Counting\n",
    "Remember the naive definition of Probability. Finding probability reduces to a counting problem where we need to count how many elements are A and S.\n",
    "\n",
    "**Naive definition** : The naive definition of probability of an event is to count the number of ways the event could happen and divide by the total number of possible outcomes for the experiment.\n",
    "\t\n",
    "  $$P_{naive}(A) = \\frac{|A|}{|S|} = \\frac{\\text{number of outcomes favorable to A}}{\\text{total number of outcomes in S}}$$\n",
    "  \n",
    " ### Multiplication Rule: \n",
    " Imagine you are doing a compound experiment consisting of **r** random experiment such that $k^{th}$ experiment has $n_k $ possible outcomess for $k = 1, 2, 3..,r $ Then there are a total of $n_1 \\times n_2 \\times n_3 \\times ... \\times n_r $ possible outcomes for the sequence of **r** experiments.\n",
    "\t\t\n",
    "Possible number of outcomes for a set with __n__ elements?: $2^n$ including the empty set $\\emptyset$ and the set itself. This follows by multiplication since for each element we can choose whether to include it or exclude it.  For instance set {1, 2, 3} has 8 subsets $\\emptyset$, {1}, {2}. {3}, {1, 2}, {1, 3}, {2, 3}, {1, 2, 3}.\n",
    "\n",
    "example: Suppose you are buying an ice cream cone. You can choose a cake cone, or a waffle cone. Also, you can choose to have vanilla, strawberry or chocolate as your flavor. The decision process can be visualized as a tree\n",
    "\t\t\t![https://remnote-user-data.s3.amazonaws.com/G20JPwyWhrULIaWpycS0yDyrOnKRmE7ZOExqkAWqbcoac0t7WW7Edie5JkFXNZ3u-BPWcyKmqw0alXC85ydJiWz7eu5Pb8W9H4e1gx_PuiT3JHexl9FRMgnGmmXm1l0C](https://remnote-user-data.s3.amazonaws.com/G20JPwyWhrULIaWpycS0yDyrOnKRmE7ZOExqkAWqbcoac0t7WW7Edie5JkFXNZ3u-BPWcyKmqw0alXC85ydJiWz7eu5Pb8W9H4e1gx_PuiT3JHexl9FRMgnGmmXm1l0C)\n",
    "            \n",
    "It doesn't matter whether we choose cone first or flavor first, the number of possibilities $2 \\times 3 = 3 \\times 2 = 6 $ are same.\n",
    "\t\n",
    "    \n",
    "### Sampling:\n",
    "Choosing an element from the set. We often **draw** a sample at random from a given set where each element can be drawn equally likely.\n",
    "\n",
    "#### Sampling with replacement: \n",
    "Object is put back to the set after the draw, and before the next draw. A single object can be possibly chosen multiple times.Opposite of \"Sampling without replacement\".\n",
    "\n",
    "#### Sampling without replacement:\n",
    "Object is not back to set after the draw and before the next draw.  Thus a single object can only be drawn once. Opposite of \"Sampling with replacement\"\n",
    "\t\t\n",
    "#### Ordered Sampling:\n",
    "If ordering matters, then sample {$a_1, a_2, a_3 $} is not same as {$a_2, a_1, a_3$} .  Opposite of \"Unordered Sampling\"\n",
    "\n",
    "#### Unordered Sampling:\n",
    "If the order doesn't matter that is $\\{a_1, a_2, a_3\\} = \\{a_3, a_2, a_1\\}$. Opposite of \"Ordered Sampling\"\n",
    "When talking about sampling from a set, we thus have four possibilities\n",
    "* Ordered Sampling with replacement: We have set of _n_ elements (e.g. A = {1, 2, 3... n}), and we want to draw __k__ samples from the set such that ordering matters and repetition is allowed. If __n__= 3, then A = {1, 2, 3} and __k__ = 2, there are 9 different possibilities - {1, 1}, {1, 2},  {1, 3}, {2, 1}, {2, 2}, {3, 3}.\n",
    "* Ordered Sampling without replacement : TBD\n",
    "* Unordered Sampling with replacement : TBD\n",
    "* Unordered Sampling without replacement : TBD"
   ]
  },
  {
   "cell_type": "code",
   "execution_count": null,
   "metadata": {},
   "outputs": [],
   "source": []
  }
 ],
 "metadata": {
  "kernelspec": {
   "display_name": "Python 3",
   "language": "python",
   "name": "python3"
  },
  "language_info": {
   "codemirror_mode": {
    "name": "ipython",
    "version": 3
   },
   "file_extension": ".py",
   "mimetype": "text/x-python",
   "name": "python",
   "nbconvert_exporter": "python",
   "pygments_lexer": "ipython3",
   "version": "3.8.2"
  }
 },
 "nbformat": 4,
 "nbformat_minor": 4
}
